{
 "cells": [
  {
   "cell_type": "markdown",
   "id": "016ddb8b",
   "metadata": {},
   "source": [
    "This is a Notebook that covers P1 - BI Python for course 44-632 at NWMSU Fall 2025."
   ]
  },
  {
   "cell_type": "code",
   "execution_count": 44,
   "id": "cd9d3abc",
   "metadata": {},
   "outputs": [],
   "source": [
    "# Adding imports\n",
    "\n",
    "import pandas as pd\n",
    "import numpy as np\n",
    "from pathlib import Path"
   ]
  },
  {
   "cell_type": "code",
   "execution_count": 45,
   "id": "ee169de2",
   "metadata": {},
   "outputs": [
    {
     "name": "stdout",
     "output_type": "stream",
     "text": [
      "\n",
      "DataFrame: customers_data\n",
      "   CustomerID           Name   Region    JoinDate\n",
      "0        1000   Robert Gomez     West  2024-02-25\n",
      "1        1001     John Silva     East  2020-12-01\n",
      "2        1002  Mark Marshall  Central  2020-08-08\n",
      "\n",
      "DataFrame: products_data\n",
      "   ProductID     ProductName     Category  UnitPrice\n",
      "0       2000  Electronics-Be  Electronics     969.31\n",
      "1       2001  Electronics-Be     Clothing     412.35\n",
      "2       2002   Office-Family     Clothing     866.00\n",
      "\n",
      "DataFrame: sales_data\n",
      "   TransactionID    SaleDate  CustomerID  ProductID  StoreID  CampaignID  \\\n",
      "0              1  2025-05-04        1034       2059      402         0.0   \n",
      "1              2  2025-05-04        1066       2048      403         1.0   \n",
      "2              3  2025-05-04        1116       2041      403         3.0   \n",
      "\n",
      "  SaleAmount  \n",
      "0     2048.2  \n",
      "1     321.87  \n",
      "2    3216.84  \n"
     ]
    }
   ],
   "source": [
    "# Creating a directory to where my CSVs live\n",
    "\n",
    "DATA_DIR = Path('data/raw')\n",
    "dataframes = {}\n",
    "\n",
    "\n",
    "# Creating a for loop to create dataframes to analyze\n",
    "\n",
    "for csv_file in DATA_DIR.glob('*.csv'):\n",
    "    df_name = csv_file.stem # This makes the dataframe the same as the file without '.csv'. (i.e. 'customers_data')\n",
    "    dataframes[df_name] = pd.read_csv(csv_file)\n",
    "    print(f\"\\nDataFrame: {df_name}\")\n",
    "    print(dataframes[df_name].head(3))"
   ]
  },
  {
   "cell_type": "code",
   "execution_count": 46,
   "id": "d6c6ca18",
   "metadata": {},
   "outputs": [
    {
     "data": {
      "text/plain": [
       "Region\n",
       "North         36\n",
       "West          35\n",
       "EAST          23\n",
       "Central       22\n",
       "South         22\n",
       "East          21\n",
       "south-west    21\n",
       "east          21\n",
       "Name: count, dtype: int64"
      ]
     },
     "execution_count": 46,
     "metadata": {},
     "output_type": "execute_result"
    }
   ],
   "source": [
    "dataframes['customers_data']['Region'].value_counts()"
   ]
  },
  {
   "cell_type": "code",
   "execution_count": 47,
   "id": "5ce1b4d4",
   "metadata": {},
   "outputs": [
    {
     "name": "stdout",
     "output_type": "stream",
     "text": [
      "The lowest priced item costs $13.51\n",
      "The highest priced item costs $976.44\n"
     ]
    }
   ],
   "source": [
    "print(f'The lowest priced item costs ${dataframes['products_data']['UnitPrice'].min()}')\n",
    "print(f'The highest priced item costs ${dataframes['products_data']['UnitPrice'].max()}')"
   ]
  }
 ],
 "metadata": {
  "kernelspec": {
   "display_name": "smart-store-karlidean (3.12.11)",
   "language": "python",
   "name": "python3"
  },
  "language_info": {
   "codemirror_mode": {
    "name": "ipython",
    "version": 3
   },
   "file_extension": ".py",
   "mimetype": "text/x-python",
   "name": "python",
   "nbconvert_exporter": "python",
   "pygments_lexer": "ipython3",
   "version": "3.12.11"
  }
 },
 "nbformat": 4,
 "nbformat_minor": 5
}
